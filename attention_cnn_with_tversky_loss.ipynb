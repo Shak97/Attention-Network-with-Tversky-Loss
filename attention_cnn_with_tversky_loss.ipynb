{
  "nbformat": 4,
  "nbformat_minor": 0,
  "metadata": {
    "colab": {
      "name": "attention cnn with tversky loss.ipynb",
      "provenance": [],
      "collapsed_sections": [],
      "include_colab_link": true
    },
    "kernelspec": {
      "name": "python3",
      "display_name": "Python 3"
    },
    "accelerator": "GPU"
  },
  "cells": [
    {
      "cell_type": "markdown",
      "metadata": {
        "id": "view-in-github",
        "colab_type": "text"
      },
      "source": [
        "<a href=\"https://colab.research.google.com/github/Shak97/Attention-Network-with-Tversky-Loss/blob/master/attention_cnn_with_tversky_loss.ipynb\" target=\"_parent\"><img src=\"https://colab.research.google.com/assets/colab-badge.svg\" alt=\"Open In Colab\"/></a>"
      ]
    },
    {
      "cell_type": "code",
      "metadata": {
        "id": "FLQrBqGRM8LT",
        "colab_type": "code",
        "outputId": "0c99fd3a-8f55-4343-b6b3-73a0e455aaa9",
        "colab": {
          "base_uri": "https://localhost:8080/",
          "height": 122
        }
      },
      "source": [
        "from google.colab import drive\n",
        "drive.mount('/content/drive')"
      ],
      "execution_count": 0,
      "outputs": [
        {
          "output_type": "stream",
          "text": [
            "Go to this URL in a browser: https://accounts.google.com/o/oauth2/auth?client_id=947318989803-6bn6qk8qdgf4n4g3pfee6491hc0brc4i.apps.googleusercontent.com&redirect_uri=urn%3Aietf%3Awg%3Aoauth%3A2.0%3Aoob&scope=email%20https%3A%2F%2Fwww.googleapis.com%2Fauth%2Fdocs.test%20https%3A%2F%2Fwww.googleapis.com%2Fauth%2Fdrive%20https%3A%2F%2Fwww.googleapis.com%2Fauth%2Fdrive.photos.readonly%20https%3A%2F%2Fwww.googleapis.com%2Fauth%2Fpeopleapi.readonly&response_type=code\n",
            "\n",
            "Enter your authorization code:\n",
            "··········\n",
            "Mounted at /content/drive\n"
          ],
          "name": "stdout"
        }
      ]
    },
    {
      "cell_type": "markdown",
      "metadata": {
        "id": "Tm3U0l2q4WkB",
        "colab_type": "text"
      },
      "source": [
        "##Dependencies"
      ]
    },
    {
      "cell_type": "code",
      "metadata": {
        "id": "IDzsVmirPN4d",
        "colab_type": "code",
        "outputId": "de2c0da3-ca5b-40b5-a6d9-f11a4fd08b36",
        "colab": {
          "base_uri": "https://localhost:8080/",
          "height": 80
        }
      },
      "source": [
        "import numpy as np\n",
        "import keras\n",
        "from keras.optimizers import *\n",
        "from keras.models import *\n",
        "from keras.layers import *\n",
        "import os\n",
        "import cv2\n",
        "from google.colab.patches import cv2_imshow\n",
        "import tensorflow as tf"
      ],
      "execution_count": 0,
      "outputs": [
        {
          "output_type": "stream",
          "text": [
            "Using TensorFlow backend.\n"
          ],
          "name": "stderr"
        },
        {
          "output_type": "display_data",
          "data": {
            "text/html": [
              "<p style=\"color: red;\">\n",
              "The default version of TensorFlow in Colab will soon switch to TensorFlow 2.x.<br>\n",
              "We recommend you <a href=\"https://www.tensorflow.org/guide/migrate\" target=\"_blank\">upgrade</a> now \n",
              "or ensure your notebook will continue to use TensorFlow 1.x via the <code>%tensorflow_version 1.x</code> magic:\n",
              "<a href=\"https://colab.research.google.com/notebooks/tensorflow_version.ipynb\" target=\"_blank\">more info</a>.</p>\n"
            ],
            "text/plain": [
              "<IPython.core.display.HTML object>"
            ]
          },
          "metadata": {
            "tags": []
          }
        }
      ]
    },
    {
      "cell_type": "markdown",
      "metadata": {
        "id": "mbvKb0zC4aXp",
        "colab_type": "text"
      },
      "source": [
        "##Files Path"
      ]
    },
    {
      "cell_type": "code",
      "metadata": {
        "id": "VutezuSwPRxb",
        "colab_type": "code",
        "colab": {}
      },
      "source": [
        "train_dir = '/content/drive/My Drive/h_segmentation/train_image/images/'\n",
        "train_mask = '/content/drive/My Drive/h_segmentation/train_mask/labels/'"
      ],
      "execution_count": 0,
      "outputs": []
    },
    {
      "cell_type": "markdown",
      "metadata": {
        "id": "bEKPe8l34gDx",
        "colab_type": "text"
      },
      "source": [
        "##Reading Files name from Directory"
      ]
    },
    {
      "cell_type": "code",
      "metadata": {
        "id": "KImdbztJPWU8",
        "colab_type": "code",
        "colab": {}
      },
      "source": [
        "fil = os.listdir(train_dir)"
      ],
      "execution_count": 0,
      "outputs": []
    },
    {
      "cell_type": "code",
      "metadata": {
        "id": "4QZkRDPqPZUK",
        "colab_type": "code",
        "colab": {}
      },
      "source": [
        "fil.sort()\n",
        "templist = []\n",
        "sublist = []\n",
        "m = 0\n",
        "start = 0\n",
        "\n",
        "for i in range(len(fil)):\n",
        "    if fil[start][3:6] == fil[i][3:6]:\n",
        "        templist.append(fil[i])\n",
        "    else:\n",
        "        sublist.append('')\n",
        "        sublist[m] = templist.copy()\n",
        "        m+=1\n",
        "        templist.clear()\n",
        "        templist.append(fil[i])\n",
        "        start = i\n",
        "sublist.append('')\n",
        "sublist[m] = templist.copy()\n",
        "\n",
        "######SORTING SECOND PART######\n",
        "for eachlist in sublist:\n",
        "    for i in range(len(eachlist)):\n",
        "        eachlist[i] = eachlist[i].split('.')[0]\n",
        "\n",
        "for ls in sublist:\n",
        "    for i in range(len(ls)):\n",
        "        min = int(ls[i][11:])\n",
        "        minindex = i\n",
        "        for j in range(i+1, len(ls)):\n",
        "            if min > int(ls[j][11:]):\n",
        "                min = int(ls[j][11:])\n",
        "                minindex = j\n",
        "        temp = ls[i]\n",
        "        ls[i] = ls[minindex]\n",
        "        ls[minindex] = temp\n",
        "\n",
        "####ADDDING EXTENSION PNG\n",
        "for x in sublist:\n",
        "    for y in range(len(x)):\n",
        "        x[y] = x[y] + '.png'"
      ],
      "execution_count": 0,
      "outputs": []
    },
    {
      "cell_type": "code",
      "metadata": {
        "id": "YibGmLE7Pcrq",
        "colab_type": "code",
        "colab": {}
      },
      "source": [
        "n = [] \n",
        "  \n",
        "# function used for removing nested  \n",
        "# lists in python.  \n",
        "def reemovNestings(l): \n",
        "    for i in l: \n",
        "        if type(i) == list: \n",
        "            reemovNestings(i) \n",
        "        else: \n",
        "            n.append(i) "
      ],
      "execution_count": 0,
      "outputs": []
    },
    {
      "cell_type": "code",
      "metadata": {
        "id": "NOHxCQ2pTeKE",
        "colab_type": "code",
        "colab": {}
      },
      "source": [
        "reemovNestings(sublist)"
      ],
      "execution_count": 0,
      "outputs": []
    },
    {
      "cell_type": "markdown",
      "metadata": {
        "id": "X6G-w_t-4lFe",
        "colab_type": "text"
      },
      "source": [
        "##Reading Dataset/Mri Slices"
      ]
    },
    {
      "cell_type": "code",
      "metadata": {
        "id": "1G4-TMhGThUj",
        "colab_type": "code",
        "colab": {}
      },
      "source": [
        "X = []\n",
        "for im in n:\n",
        "  X.append(cv2.resize(cv2.imread(train_dir+im,cv2.IMREAD_GRAYSCALE),(240,240)))"
      ],
      "execution_count": 0,
      "outputs": []
    },
    {
      "cell_type": "code",
      "metadata": {
        "id": "XIhRB7ZOTmXq",
        "colab_type": "code",
        "outputId": "9b356a45-9db3-41a8-af8f-992ca4b64b01",
        "colab": {
          "base_uri": "https://localhost:8080/",
          "height": 34
        }
      },
      "source": [
        "X = np.asarray(X)\n",
        "X.shape"
      ],
      "execution_count": 0,
      "outputs": [
        {
          "output_type": "execute_result",
          "data": {
            "text/plain": [
              "(2251, 240, 240)"
            ]
          },
          "metadata": {
            "tags": []
          },
          "execution_count": 9
        }
      ]
    },
    {
      "cell_type": "code",
      "metadata": {
        "id": "jgfFW5P_f2Wq",
        "colab_type": "code",
        "colab": {}
      },
      "source": [
        "x_train = []\n",
        "x_val = []\n",
        "x_test = []\n",
        "for i in range(1578):\n",
        "  x_train.append(X[i])\n",
        "for i in range(1578,1578+218):\n",
        "  x_val.append(X[i])\n",
        "for i in range(1796,1796+455):\n",
        "  x_test.append(X[i])\n",
        "  \n",
        "x_train = np.asarray(x_train)\n",
        "x_val = np.asarray(x_val)\n",
        "x_test = np.asarray(x_test)"
      ],
      "execution_count": 0,
      "outputs": []
    },
    {
      "cell_type": "code",
      "metadata": {
        "id": "l7Vepr2mxULk",
        "colab_type": "code",
        "outputId": "97ee483f-b10b-4548-fb75-37a68d3f38c9",
        "colab": {
          "base_uri": "https://localhost:8080/",
          "height": 34
        }
      },
      "source": [
        "x_train = x_train.reshape(1578,240,240,1)\n",
        "x_train.shape"
      ],
      "execution_count": 0,
      "outputs": [
        {
          "output_type": "execute_result",
          "data": {
            "text/plain": [
              "(1578, 240, 240, 1)"
            ]
          },
          "metadata": {
            "tags": []
          },
          "execution_count": 11
        }
      ]
    },
    {
      "cell_type": "code",
      "metadata": {
        "id": "4A7jsuJZBQkF",
        "colab_type": "code",
        "outputId": "9d83b7d4-cdd8-4f1a-a316-aaa30e9c214a",
        "colab": {
          "base_uri": "https://localhost:8080/",
          "height": 34
        }
      },
      "source": [
        "x_val = x_val.reshape(218,240,240,1)\n",
        "x_val.shape"
      ],
      "execution_count": 0,
      "outputs": [
        {
          "output_type": "execute_result",
          "data": {
            "text/plain": [
              "(218, 240, 240, 1)"
            ]
          },
          "metadata": {
            "tags": []
          },
          "execution_count": 12
        }
      ]
    },
    {
      "cell_type": "code",
      "metadata": {
        "id": "wQHmmu5dBTE3",
        "colab_type": "code",
        "outputId": "dbe38b00-b4e0-44d7-c87b-e117405617af",
        "colab": {
          "base_uri": "https://localhost:8080/",
          "height": 34
        }
      },
      "source": [
        "x_test = x_test.reshape(455,240,240,1)\n",
        "x_test.shape"
      ],
      "execution_count": 0,
      "outputs": [
        {
          "output_type": "execute_result",
          "data": {
            "text/plain": [
              "(455, 240, 240, 1)"
            ]
          },
          "metadata": {
            "tags": []
          },
          "execution_count": 13
        }
      ]
    },
    {
      "cell_type": "code",
      "metadata": {
        "id": "_K8sAN3NBVL2",
        "colab_type": "code",
        "colab": {}
      },
      "source": [
        "fil = os.listdir(train_mask)"
      ],
      "execution_count": 0,
      "outputs": []
    },
    {
      "cell_type": "code",
      "metadata": {
        "id": "4jH5_94CBYtT",
        "colab_type": "code",
        "colab": {}
      },
      "source": [
        "fil.sort()\n",
        "templist = []\n",
        "sublist = []\n",
        "m = 0\n",
        "start = 0\n",
        "\n",
        "for i in range(len(fil)):\n",
        "    if fil[start][3:6] == fil[i][3:6]:\n",
        "        templist.append(fil[i])\n",
        "    else:\n",
        "        sublist.append('')\n",
        "        sublist[m] = templist.copy()\n",
        "        m+=1\n",
        "        templist.clear()\n",
        "        templist.append(fil[i])\n",
        "        start = i\n",
        "sublist.append('')\n",
        "sublist[m] = templist.copy()\n",
        "\n",
        "######SORTING SECOND PART######\n",
        "for eachlist in sublist:\n",
        "    for i in range(len(eachlist)):\n",
        "        eachlist[i] = eachlist[i].split('.')[0]\n",
        "\n",
        "for ls in sublist:\n",
        "    for i in range(len(ls)):\n",
        "        min = int(ls[i][11:])\n",
        "        minindex = i\n",
        "        for j in range(i+1, len(ls)):\n",
        "            if min > int(ls[j][11:]):\n",
        "                min = int(ls[j][11:])\n",
        "                minindex = j\n",
        "        temp = ls[i]\n",
        "        ls[i] = ls[minindex]\n",
        "        ls[minindex] = temp\n",
        "\n",
        "####ADDDING EXTENSION PNG\n",
        "for x in sublist:\n",
        "    for y in range(len(x)):\n",
        "        x[y] = x[y] + '.png'"
      ],
      "execution_count": 0,
      "outputs": []
    },
    {
      "cell_type": "code",
      "metadata": {
        "id": "vxpyafrSBeiJ",
        "colab_type": "code",
        "colab": {}
      },
      "source": [
        "n = [] \n",
        "  \n",
        "# function used for removing nested  \n",
        "# lists in python.  \n",
        "def reemovNestings(l): \n",
        "    for i in l: \n",
        "        if type(i) == list: \n",
        "            reemovNestings(i) \n",
        "        else: \n",
        "            n.append(i) "
      ],
      "execution_count": 0,
      "outputs": []
    },
    {
      "cell_type": "code",
      "metadata": {
        "id": "QAFEwPTgBg-h",
        "colab_type": "code",
        "colab": {}
      },
      "source": [
        "reemovNestings(sublist)"
      ],
      "execution_count": 0,
      "outputs": []
    },
    {
      "cell_type": "code",
      "metadata": {
        "id": "BoYSS1PMBjEJ",
        "colab_type": "code",
        "colab": {}
      },
      "source": [
        "Y = []\n",
        "for mask in n:\n",
        "  Y.append(cv2.resize(cv2.imread(train_mask+mask, cv2.IMREAD_GRAYSCALE),(240,240)))\n",
        "  "
      ],
      "execution_count": 0,
      "outputs": []
    },
    {
      "cell_type": "code",
      "metadata": {
        "id": "GNakE5fpBlo_",
        "colab_type": "code",
        "outputId": "54fb05c2-06b1-4af6-b217-08c5e1c081ec",
        "colab": {
          "base_uri": "https://localhost:8080/",
          "height": 34
        }
      },
      "source": [
        "Y = np.asarray(Y)\n",
        "Y.shape"
      ],
      "execution_count": 0,
      "outputs": [
        {
          "output_type": "execute_result",
          "data": {
            "text/plain": [
              "(2251, 240, 240)"
            ]
          },
          "metadata": {
            "tags": []
          },
          "execution_count": 19
        }
      ]
    },
    {
      "cell_type": "code",
      "metadata": {
        "id": "dGQE6u3uBpPx",
        "colab_type": "code",
        "colab": {}
      },
      "source": [
        "y_train = []\n",
        "y_val = []\n",
        "y_test = []\n",
        "for i in range(1578):\n",
        "  y_train.append(Y[i])\n",
        "for i in range(1578,1578+218):\n",
        "  y_val.append(Y[i])\n",
        "for i in range(1796,1796+455):\n",
        "  y_test.append(Y[i])\n",
        "  \n",
        "y_train = np.asarray(y_train)\n",
        "y_val = np.asarray(y_val)\n",
        "y_test = np.asarray(y_test)"
      ],
      "execution_count": 0,
      "outputs": []
    },
    {
      "cell_type": "code",
      "metadata": {
        "id": "6gekV0BvBrwg",
        "colab_type": "code",
        "outputId": "d4ff0bec-fee5-44fa-a2dd-1c0705f7d77d",
        "colab": {
          "base_uri": "https://localhost:8080/",
          "height": 34
        }
      },
      "source": [
        "y_train = y_train.reshape(1578,240,240,1)\n",
        "y_train.shape"
      ],
      "execution_count": 0,
      "outputs": [
        {
          "output_type": "execute_result",
          "data": {
            "text/plain": [
              "(1578, 240, 240, 1)"
            ]
          },
          "metadata": {
            "tags": []
          },
          "execution_count": 21
        }
      ]
    },
    {
      "cell_type": "code",
      "metadata": {
        "id": "igxNgMmFBtdS",
        "colab_type": "code",
        "outputId": "08557277-1a03-46c2-c0fa-90539e6e8f2e",
        "colab": {
          "base_uri": "https://localhost:8080/",
          "height": 34
        }
      },
      "source": [
        "y_val = y_val.reshape(218,240,240,1)\n",
        "y_val.shape"
      ],
      "execution_count": 0,
      "outputs": [
        {
          "output_type": "execute_result",
          "data": {
            "text/plain": [
              "(218, 240, 240, 1)"
            ]
          },
          "metadata": {
            "tags": []
          },
          "execution_count": 22
        }
      ]
    },
    {
      "cell_type": "code",
      "metadata": {
        "id": "C0FmGhK8Bzcu",
        "colab_type": "code",
        "outputId": "d8ab5208-7eb8-4ac2-d314-067b8c1e728d",
        "colab": {
          "base_uri": "https://localhost:8080/",
          "height": 34
        }
      },
      "source": [
        "y_test = y_test.reshape(455,240,240,1)\n",
        "y_test.shape"
      ],
      "execution_count": 0,
      "outputs": [
        {
          "output_type": "execute_result",
          "data": {
            "text/plain": [
              "(455, 240, 240, 1)"
            ]
          },
          "metadata": {
            "tags": []
          },
          "execution_count": 23
        }
      ]
    },
    {
      "cell_type": "code",
      "metadata": {
        "id": "BGCUoG1wB-bX",
        "colab_type": "code",
        "colab": {}
      },
      "source": [
        "x_train = x_train.astype('float32')\n",
        "x_val = x_val.astype('float32')\n",
        "x_test = x_test.astype('float32')\n",
        "y_train = y_train.astype('float32')\n",
        "y_val = y_val.astype('float32')\n",
        "y_test = y_test.astype('float32')\n",
        "for i in range(1578):\n",
        "  x_train[i,:,:] = x_train[i,:,:] / 255.0\n",
        "  y_train[i,:,:] = y_train[i,:,:] / 255.0\n",
        "for i in range(218):\n",
        "  x_val[i,:,:] = x_val[i,:,:] / 255.0\n",
        "  y_val[i,:,:] = y_val[i,:,:] / 255.0\n",
        "for i in range(455):\n",
        "  x_test[i,:,:] = x_test[i,:,:] / 255.0\n",
        "  y_test[i,:,:] = y_test[i,:,:] / 255.0\n",
        "\n"
      ],
      "execution_count": 0,
      "outputs": []
    },
    {
      "cell_type": "code",
      "metadata": {
        "id": "BguOxAeX7IxV",
        "colab_type": "code",
        "colab": {}
      },
      "source": [
        "x_train = np.asarray(x_train)\n",
        "x_val = np.asarray(x_val)\n",
        "x_test = np.asarray(x_test)\n",
        "y_train = np.asarray(y_train)\n",
        "y_val = np.asarray(y_val)\n",
        "y_test = np.asarray(y_test)"
      ],
      "execution_count": 0,
      "outputs": []
    },
    {
      "cell_type": "code",
      "metadata": {
        "id": "hZqzOCRPK15M",
        "colab_type": "code",
        "colab": {}
      },
      "source": [
        "gt1 = y_train[:,::8,::8,:]\n",
        "gt2 = y_train[:,::4,::4,:]\n",
        "gt3 = y_train[:,::2,::2,:]\n",
        "gt4 = y_train\n",
        "yy_train = [gt1,gt2,gt3,gt4]\n",
        "\n",
        "yv1 = y_val[:,::8,::8,:]\n",
        "yv2 = y_val[:,::4,::4,:]\n",
        "yv3 = y_val[:,::2,::2,:]\n",
        "yv4 = y_val\n",
        "yy_val = [yv1,yv2,yv3,yv4]\n"
      ],
      "execution_count": 0,
      "outputs": []
    },
    {
      "cell_type": "code",
      "metadata": {
        "id": "MvZiDBtS19Of",
        "colab_type": "code",
        "colab": {}
      },
      "source": [
        "yt1 = y_test[:,::8,::8,:]\n",
        "yt2 = y_test[:,::4,::4,:]\n",
        "yt3 = y_test[:,::2,::2,:]\n",
        "yt4 = y_test\n",
        "yy_test = [yt1,yt2,yt3,yt4]\n"
      ],
      "execution_count": 0,
      "outputs": []
    },
    {
      "cell_type": "markdown",
      "metadata": {
        "id": "aXnphYfJ8LWx",
        "colab_type": "text"
      },
      "source": [
        "##Model"
      ]
    },
    {
      "cell_type": "code",
      "metadata": {
        "id": "n95S33YROsfn",
        "colab_type": "code",
        "colab": {}
      },
      "source": [
        "import keras.backend as K\n",
        "def gatingSignal(inp):\n",
        "  shape = K.int_shape(inp)\n",
        "  x = Conv2D(shape[3] * 1, (1, 1), activation='relu', padding='same')(inp)\n",
        "  x = BatchNormalization()(x)\n",
        "  return x"
      ],
      "execution_count": 0,
      "outputs": []
    },
    {
      "cell_type": "code",
      "metadata": {
        "id": "3lw6rJXNwR_Z",
        "colab_type": "code",
        "colab": {}
      },
      "source": [
        "def expend_as(tens, rep):\n",
        "  my_rep = Lambda(lambda x, repnum: K.repeat_elements(x, repnum, axis=3), arguments={'repnum': rep})(tens)\n",
        "  return my_rep"
      ],
      "execution_count": 0,
      "outputs": []
    },
    {
      "cell_type": "code",
      "metadata": {
        "id": "6Ut4E1IUXiAe",
        "colab_type": "code",
        "colab": {}
      },
      "source": [
        "def gatingBlock(x, g, filt):\n",
        "  shape_x = K.int_shape(x)\n",
        "  shape_g = K.int_shape(g)\n",
        "  \n",
        "  conv_x = Conv2D(filt, (2,2), activation='relu', padding='same')(x)\n",
        "  shape_conv_x = K.int_shape(conv_x)\n",
        "  \n",
        "  conv_g = Conv2D(filt, (1,1), activation='relu', padding='same')(g)\n",
        "  up_g = Conv2DTranspose(filt, (3,3), strides=(shape_conv_x[1] // shape_g[1], shape_conv_x[2] // shape_g[2]), activation='relu', padding='same')(conv_g)\n",
        "  \n",
        "  add_xg = add([up_g, conv_x])\n",
        "  act_xg = Activation('relu')(add_xg)\n",
        "  psi = Conv2D(1, (1,1), activation='sigmoid', padding='same')(act_xg)\n",
        "  shape_psi = K.int_shape(psi)\n",
        "  up_psi = UpSampling2D(size=(shape_x[1] // shape_psi[1], shape_x[2] // shape_psi[2]))(psi)\n",
        "\n",
        "  up_psi = expend_as(up_psi, shape_x[3])\n",
        "  y = multiply([up_psi, x])\n",
        "  \n",
        "  result = Conv2D(shape_x[3], (1,1), padding='same')(y)\n",
        "  result = BatchNormalization()(result)\n",
        "  \n",
        "  return result\n",
        "  "
      ],
      "execution_count": 0,
      "outputs": []
    },
    {
      "cell_type": "code",
      "metadata": {
        "id": "lJx60wBBbKxq",
        "colab_type": "code",
        "colab": {}
      },
      "source": [
        "def tversky(y_true, y_pred):\n",
        "    smooth=1\n",
        "    y_true_pos = K.flatten(y_true)\n",
        "    y_pred_pos = K.flatten(y_pred)\n",
        "    true_pos = K.sum(y_true_pos * y_pred_pos)\n",
        "    false_neg = K.sum(y_true_pos * (1-y_pred_pos))\n",
        "    false_pos = K.sum((1-y_true_pos)*y_pred_pos)\n",
        "    alpha = 0.7\n",
        "    return (true_pos + smooth)/(true_pos + alpha*false_neg + (1-alpha)*false_pos + smooth)\n"
      ],
      "execution_count": 0,
      "outputs": []
    },
    {
      "cell_type": "code",
      "metadata": {
        "id": "sv8LkmEWT4sO",
        "colab_type": "code",
        "colab": {}
      },
      "source": [
        "def focal_tversky(y_true,y_pred):\n",
        "  pt_1 = tversky(y_true, y_pred)\n",
        "  gamma = 0.75\n",
        "  return K.pow((1-pt_1), gamma)\n",
        "\n",
        "def dsc(y_true, y_pred):\n",
        "    smooth = 1.\n",
        "    y_true_f = K.flatten(y_true)\n",
        "    y_pred_f = K.flatten(y_pred)\n",
        "    intersection = K.sum(y_true_f * y_pred_f)\n",
        "    score = (2. * intersection + smooth) / (K.sum(y_true_f) + K.sum(y_pred_f) + smooth)\n",
        "    return score\n"
      ],
      "execution_count": 0,
      "outputs": []
    },
    {
      "cell_type": "code",
      "metadata": {
        "id": "D9X01Ef7CAvT",
        "colab_type": "code",
        "colab": {}
      },
      "source": [
        "def attn_unet(pretrained_weights = None, input_size = (240,240,1)):\n",
        "  scale_1 = keras.engine.input_layer.Input(input_size)\n",
        "  scale_2 = AveragePooling2D(pool_size=(2,2))(scale_1)\n",
        "  scale_3 = AveragePooling2D(pool_size=(2,2))(scale_2)\n",
        "  scale_4 = AveragePooling2D(pool_size=(2,2))(scale_3)\n",
        "  \n",
        "  #ENCODER\n",
        "  conv1 = Conv2D(32, (3,3), activation = 'relu', padding='same')(scale_1)\n",
        "  conv1 = BatchNormalization()(conv1)\n",
        "  conv1 = Conv2D(32, (3,3), activation = 'relu', padding='same')(conv1)\n",
        "  conv1 = BatchNormalization()(conv1)\n",
        "  pool1 = MaxPooling2D(pool_size = (2,2))(conv1)\n",
        "  \n",
        "  conv2 = Conv2D(64,(3,3), activation='relu', padding='same')(scale_2)\n",
        "  conv2 = concatenate([conv2, pool1], axis=3)\n",
        "  conv2 = Conv2D(64, (3,3), activation='relu', padding='same')(conv2)\n",
        "  conv2 = BatchNormalization()(conv2)\n",
        "  conv2 = Conv2D(64, (3,3), activation='relu', padding='same')(conv2)\n",
        "  conv2 = BatchNormalization()(conv2)\n",
        "  pool2 = MaxPooling2D(pool_size=(2,2))(conv2)\n",
        "  \n",
        "  conv3 = Conv2D(128,(3,3), activation='relu', padding='same')(scale_3)\n",
        "  conv3 = concatenate([conv3, pool2], axis=3)\n",
        "  conv3 = Conv2D(128, (3,3), activation='relu', padding='same')(conv3)\n",
        "  conv3 = BatchNormalization()(conv3)\n",
        "  conv3 = Conv2D(128, (3,3), activation='relu', padding='same')(conv3)\n",
        "  conv3 = BatchNormalization()(conv3)\n",
        "  pool3 = MaxPooling2D(pool_size=(2,2))(conv3)\n",
        "  \n",
        "  conv4 = Conv2D(256, (3,3), activation='relu', padding='same')(scale_4)\n",
        "  conv4 = concatenate([conv4, pool3], axis=3)\n",
        "  conv4 = Conv2D(64, (3,3), activation='relu', padding='same')(conv4)\n",
        "  conv4 = BatchNormalization()(conv4)\n",
        "  conv4 = Conv2D(64, (3,3), activation='relu', padding='same')(conv4)\n",
        "  conv4 = BatchNormalization()(conv4)\n",
        "  pool4 = MaxPooling2D(pool_size=(2,2))(conv4)\n",
        "  \n",
        "  #CENTER\n",
        "  center = Conv2D(512, (3,3), activation='relu', padding='same')(pool4)\n",
        "  center = BatchNormalization()(center)\n",
        "  center = Conv2D(512, (3,3), activation='relu', padding='same')(pool4)\n",
        "  center = BatchNormalization()(center)\n",
        "\n",
        "  #DECODER\n",
        "  gate1 = gatingSignal(center)\n",
        "  blck1 = gatingBlock(conv4, gate1, 128)\n",
        "  trans1 = Conv2DTranspose(32, (3,3), strides=(2,2), activation='relu', padding='same')(center)\n",
        "  up1 = concatenate([trans1, blck1])\n",
        "  \n",
        "  gate2 = gatingSignal(up1)\n",
        "  blck2 = gatingBlock(conv3, gate2, 64)\n",
        "  trans2 = Conv2DTranspose(64, (3,3), strides=(2,2), activation='relu', padding='same')(up1)\n",
        "  up2 = concatenate([trans2, blck2])\n",
        "  \n",
        "  gate3 = gatingSignal(up2)\n",
        "  blck3 = gatingBlock(conv2, gate3, 32)\n",
        "  trans3 = Conv2DTranspose(32, (3,3), strides=(2,2), activation='relu', padding='same')(up2)\n",
        "  up3 = concatenate([trans3, blck3])\n",
        "  \n",
        "  trans4 = Conv2DTranspose(32, (3,3), strides=(2,2), activation='relu', padding='same')(up3)\n",
        "  up4 = concatenate([trans4, conv1])\n",
        "  \n",
        "  conv6 = Conv2D(256, (3,3), activation='relu', padding='same')(up1) \n",
        "  conv6 = BatchNormalization()(conv6)\n",
        "  conv6 = Conv2D(256, (3,3), activation='relu', padding='same')(conv6)\n",
        "  conv6 = BatchNormalization()(conv6)\n",
        "  \n",
        "  conv7 = Conv2D(128, (3,3), activation='relu', padding='same')(up2) \n",
        "  conv7 = BatchNormalization()(conv7)\n",
        "  conv7 = Conv2D(128, (3,3), activation='relu', padding='same')(conv7)\n",
        "  conv7 = BatchNormalization()(conv7)\n",
        "  \n",
        "  conv8 = Conv2D(64, (3,3), activation='relu', padding='same')(up3) \n",
        "  conv8 = BatchNormalization()(conv8)\n",
        "  conv8 = Conv2D(64, (3,3), activation='relu', padding='same')(conv8)\n",
        "  conv8 = BatchNormalization()(conv8)\n",
        "  \n",
        "  conv9 = Conv2D(32, (3,3), activation='relu', padding='same')(up4) \n",
        "  conv9 = BatchNormalization()(conv9)\n",
        "  conv9 = Conv2D(32, (3,3), activation='relu', padding='same')(conv9)\n",
        "  conv9 = BatchNormalization()(conv9)\n",
        "  \n",
        "  out6 = Conv2D(1, (1,1), activation='sigmoid', name='pred1')(conv6)\n",
        "  out7 = Conv2D(1, (1,1), activation='sigmoid', name='pred2')(conv7)\n",
        "  out8 = Conv2D(1, (1,1), activation='sigmoid', name='pred3')(conv8)\n",
        "  out9 = Conv2D(1, (1,1), activation='sigmoid', name='final')(conv9)\n",
        "  \n",
        "  model = Model(input = [scale_1], output=[out6, out7, out8, out9])\n",
        "  \n",
        "  loss={'pred1':focal_tversky,\n",
        "        'pred2':focal_tversky,\n",
        "        'pred3':focal_tversky,\n",
        "        'final':focal_tversky}\n",
        "  \n",
        "  loss_weights={'pred1':1,\n",
        "        'pred2':1,\n",
        "        'pred3':1,\n",
        "        'final':2}\n",
        "  \n",
        "  run_opts = tf.RunOptions(report_tensor_allocations_upon_oom = True)\n",
        "  model.compile(optimizer=Adam(), loss = loss, loss_weights = loss_weights, metrics=[dsc])\n",
        "  \n",
        "  return model"
      ],
      "execution_count": 0,
      "outputs": []
    },
    {
      "cell_type": "code",
      "metadata": {
        "id": "vygm3Vjmb0Ax",
        "colab_type": "code",
        "colab": {}
      },
      "source": [
        "model = attn_unet()"
      ],
      "execution_count": 0,
      "outputs": []
    },
    {
      "cell_type": "code",
      "metadata": {
        "id": "T1sid2vUY8jM",
        "colab_type": "code",
        "colab": {}
      },
      "source": [
        "model_hist = model.fit(x_train, yy_train, epochs=8, validation_data=(x_val, yy_val))"
      ],
      "execution_count": 0,
      "outputs": []
    },
    {
      "cell_type": "code",
      "metadata": {
        "id": "IhdYeLD06TKf",
        "colab_type": "code",
        "colab": {}
      },
      "source": [
        "model_hist.history.keys()"
      ],
      "execution_count": 0,
      "outputs": []
    },
    {
      "cell_type": "markdown",
      "metadata": {
        "id": "Sv-S44Bd-Q7C",
        "colab_type": "text"
      },
      "source": [
        "##Model Prediction"
      ]
    },
    {
      "cell_type": "code",
      "metadata": {
        "id": "hunvtuEnjBT2",
        "colab_type": "code",
        "colab": {}
      },
      "source": [
        "pred = model.predict(x=x_test, verbose=1)"
      ],
      "execution_count": 0,
      "outputs": []
    },
    {
      "cell_type": "code",
      "metadata": {
        "id": "Dt6sufZxk_sA",
        "colab_type": "code",
        "colab": {}
      },
      "source": [
        "#pred = np.asarray(pred)\n",
        "pred4 = np.asarray(pred[3])\n",
        "pred3 = np.asarray(pred[2])\n",
        "pred2 = np.asarray(pred[1])\n",
        "pred1 = np.asarray(pred[0])"
      ],
      "execution_count": 0,
      "outputs": []
    },
    {
      "cell_type": "code",
      "metadata": {
        "id": "UPV0KJt1tHkc",
        "colab_type": "code",
        "colab": {}
      },
      "source": [
        "pred1.shape"
      ],
      "execution_count": 0,
      "outputs": []
    },
    {
      "cell_type": "code",
      "metadata": {
        "id": "9IDpULZwjLl1",
        "colab_type": "code",
        "colab": {}
      },
      "source": [
        "import matplotlib.pyplot as plt\n",
        "%matplotlib inline"
      ],
      "execution_count": 0,
      "outputs": []
    },
    {
      "cell_type": "code",
      "metadata": {
        "id": "OElbPbCV0ffS",
        "colab_type": "code",
        "outputId": "4077ce03-341b-4b75-c9a8-bd23d5661652",
        "colab": {
          "base_uri": "https://localhost:8080/",
          "height": 173
        }
      },
      "source": [
        "from keras import backend as b\n",
        "dice_pred4 = []\n",
        "for i in range(455):\n",
        "  dice_pred4.append(b.eval(dsc(yt4[i,:,:], pred4[i,:,:])))"
      ],
      "execution_count": 0,
      "outputs": [
        {
          "output_type": "stream",
          "text": [
            "WARNING:tensorflow:From /usr/local/lib/python3.6/dist-packages/keras/backend/tensorflow_backend.py:190: The name tf.get_default_session is deprecated. Please use tf.compat.v1.get_default_session instead.\n",
            "\n",
            "WARNING:tensorflow:From /usr/local/lib/python3.6/dist-packages/keras/backend/tensorflow_backend.py:197: The name tf.ConfigProto is deprecated. Please use tf.compat.v1.ConfigProto instead.\n",
            "\n",
            "WARNING:tensorflow:From /usr/local/lib/python3.6/dist-packages/keras/backend/tensorflow_backend.py:203: The name tf.Session is deprecated. Please use tf.compat.v1.Session instead.\n",
            "\n",
            "WARNING:tensorflow:From /usr/local/lib/python3.6/dist-packages/keras/backend/tensorflow_backend.py:207: The name tf.global_variables is deprecated. Please use tf.compat.v1.global_variables instead.\n",
            "\n"
          ],
          "name": "stdout"
        }
      ]
    },
    {
      "cell_type": "code",
      "metadata": {
        "id": "Xohg6V0CQ44X",
        "colab_type": "code",
        "colab": {}
      },
      "source": [
        "for i in range(455):\n",
        "  if dice_pred4[i] < 0.5:\n",
        "    dice_pred4[i] = 0\n",
        "  else:\n",
        "    dice_pred4[i] = 1"
      ],
      "execution_count": 0,
      "outputs": []
    },
    {
      "cell_type": "code",
      "metadata": {
        "id": "O84-G3Zt30bp",
        "colab_type": "code",
        "outputId": "fefcb55a-2e87-4d69-bf00-0271f57e4482",
        "colab": {
          "base_uri": "https://localhost:8080/",
          "height": 34
        }
      },
      "source": [
        "d4=0\n",
        "for i in range(len(dice_pred4)):\n",
        "  d4+= dice_pred4[i]\n",
        "d4"
      ],
      "execution_count": 0,
      "outputs": [
        {
          "output_type": "execute_result",
          "data": {
            "text/plain": [
              "388"
            ]
          },
          "metadata": {
            "tags": []
          },
          "execution_count": 36
        }
      ]
    },
    {
      "cell_type": "code",
      "metadata": {
        "id": "Q9t4BTFB4OD0",
        "colab_type": "code",
        "colab": {}
      },
      "source": [
        "d4/455"
      ],
      "execution_count": 0,
      "outputs": []
    },
    {
      "cell_type": "code",
      "metadata": {
        "id": "wuawH2t14TIr",
        "colab_type": "code",
        "colab": {}
      },
      "source": [
        "dice_pred3 = []\n",
        "for i in range(455):\n",
        "  dice_pred3.append(b.eval(dsc(yt3[i,:,:], pred3[i,:,:])))"
      ],
      "execution_count": 0,
      "outputs": []
    },
    {
      "cell_type": "code",
      "metadata": {
        "id": "4ERX_v_IRQTz",
        "colab_type": "code",
        "colab": {}
      },
      "source": [
        "for i in range(455):\n",
        "  if dice_pred3[i] < 0.5:\n",
        "    dice_pred3[i] = 0\n",
        "  else:\n",
        "    dice_pred3[i] = 1"
      ],
      "execution_count": 0,
      "outputs": []
    },
    {
      "cell_type": "code",
      "metadata": {
        "id": "5aSraWth4Tjn",
        "colab_type": "code",
        "colab": {}
      },
      "source": [
        "d3=0\n",
        "for i in range(len(dice_pred3)):\n",
        "  d3+= dice_pred3[i]\n",
        "d3"
      ],
      "execution_count": 0,
      "outputs": []
    },
    {
      "cell_type": "code",
      "metadata": {
        "id": "xu0MrTei4Tz7",
        "colab_type": "code",
        "colab": {}
      },
      "source": [
        "d3/455"
      ],
      "execution_count": 0,
      "outputs": []
    },
    {
      "cell_type": "code",
      "metadata": {
        "id": "Kn-hMKLM4UJ8",
        "colab_type": "code",
        "colab": {}
      },
      "source": [
        "dice_pred2 = []\n",
        "for i in range(455):\n",
        "  dice_pred2.append(b.eval(dsc(yt2[i,:,:], pred2[i,:,:])))"
      ],
      "execution_count": 0,
      "outputs": []
    },
    {
      "cell_type": "code",
      "metadata": {
        "id": "bEgNh8qyRYY1",
        "colab_type": "code",
        "colab": {}
      },
      "source": [
        "for i in range(455):\n",
        "  if dice_pred2[i] < 0.5:\n",
        "    dice_pred2[i] = 0\n",
        "  else:\n",
        "    dice_pred2[i] = 1"
      ],
      "execution_count": 0,
      "outputs": []
    },
    {
      "cell_type": "code",
      "metadata": {
        "id": "vLSJ-70U6cOq",
        "colab_type": "code",
        "colab": {}
      },
      "source": [
        "d2=0\n",
        "for i in range(len(dice_pred2)):\n",
        "  d2+= dice_pred2[i]\n",
        "d2"
      ],
      "execution_count": 0,
      "outputs": []
    },
    {
      "cell_type": "code",
      "metadata": {
        "id": "F8MBajyY6ge0",
        "colab_type": "code",
        "colab": {}
      },
      "source": [
        "d2/455"
      ],
      "execution_count": 0,
      "outputs": []
    },
    {
      "cell_type": "code",
      "metadata": {
        "id": "I7pW08hx6idc",
        "colab_type": "code",
        "colab": {}
      },
      "source": [
        "dice_pred1 = []\n",
        "for i in range(455):\n",
        "  dice_pred1.append(b.eval(dsc(yt1[i,:,:], pred1[i,:,:])))"
      ],
      "execution_count": 0,
      "outputs": []
    },
    {
      "cell_type": "code",
      "metadata": {
        "id": "oA2a2pR8SN8m",
        "colab_type": "code",
        "colab": {}
      },
      "source": [
        "for i in range(455):\n",
        "  if dice_pred1[i] < 0.5:\n",
        "    dice_pred1[i] = 0\n",
        "  else:\n",
        "    dice_pred1[i] = 1"
      ],
      "execution_count": 0,
      "outputs": []
    },
    {
      "cell_type": "code",
      "metadata": {
        "id": "V90TUpLT7V_R",
        "colab_type": "code",
        "colab": {}
      },
      "source": [
        "d1=0\n",
        "for i in range(len(dice_pred1)):\n",
        "  d1+= dice_pred1[i]\n",
        "d1"
      ],
      "execution_count": 0,
      "outputs": []
    },
    {
      "cell_type": "code",
      "metadata": {
        "id": "4jLUKl1d7Xhz",
        "colab_type": "code",
        "colab": {}
      },
      "source": [
        "d1/455"
      ],
      "execution_count": 0,
      "outputs": []
    },
    {
      "cell_type": "code",
      "metadata": {
        "id": "5NqlETUjGATv",
        "colab_type": "code",
        "colab": {}
      },
      "source": [
        "((d1/455)+(d2/455)+(d3/455)+(d4/455))/4"
      ],
      "execution_count": 0,
      "outputs": []
    },
    {
      "cell_type": "code",
      "metadata": {
        "id": "FpHluFJZKrY8",
        "colab_type": "code",
        "outputId": "058e05a2-fc52-4042-a1bf-65c896d8ffdb",
        "colab": {
          "base_uri": "https://localhost:8080/",
          "height": 257
        }
      },
      "source": [
        "cv2_imshow(yt4[80,:,:,:].reshape(240,240)*255.0)"
      ],
      "execution_count": 0,
      "outputs": [
        {
          "output_type": "display_data",
          "data": {
            "image/png": "[encoded data removed]",
            "text/plain": [
              "<PIL.Image.Image image mode=L size=240x240 at 0x7FF9325660B8>"
            ]
          },
          "metadata": {
            "tags": []
          }
        }
      ]
    },
    {
      "cell_type": "code",
      "metadata": {
        "id": "3Qz6JWbtOQYc",
        "colab_type": "code",
        "outputId": "e4e0659f-78af-4272-942d-0795b3631f6e",
        "colab": {
          "base_uri": "https://localhost:8080/",
          "height": 34
        }
      },
      "source": [
        "dice_pred4[80]"
      ],
      "execution_count": 0,
      "outputs": [
        {
          "output_type": "execute_result",
          "data": {
            "text/plain": [
              "0"
            ]
          },
          "metadata": {
            "tags": []
          },
          "execution_count": 41
        }
      ]
    },
    {
      "cell_type": "code",
      "metadata": {
        "id": "fDEi8lexHLpQ",
        "colab_type": "code",
        "colab": {}
      },
      "source": [
        "dice_pred4"
      ],
      "execution_count": 0,
      "outputs": []
    },
    {
      "cell_type": "code",
      "metadata": {
        "id": "XZ0l89UALo1-",
        "colab_type": "code",
        "outputId": "64863a6d-4bc7-40f1-b9d5-e72531c6e02b",
        "colab": {
          "base_uri": "https://localhost:8080/",
          "height": 257
        }
      },
      "source": [
        "cv2_imshow(pred4[80,:,:,:].reshape(240,240)*255.0)"
      ],
      "execution_count": 0,
      "outputs": [
        {
          "output_type": "display_data",
          "data": {
            "image/png": "[encoded data removed]",
            "text/plain": [
              "<PIL.Image.Image image mode=L size=240x240 at 0x7FF9324DF898>"
            ]
          },
          "metadata": {
            "tags": []
          }
        }
      ]
    },
    {
      "cell_type": "code",
      "metadata": {
        "id": "TyoSg0gSMIWJ",
        "colab_type": "code",
        "outputId": "b8f47331-93f1-4150-c3c1-c92f43be024f",
        "colab": {
          "base_uri": "https://localhost:8080/",
          "height": 257
        }
      },
      "source": [
        "cv2_imshow(yt4[50,:,:,:].reshape(240,240)*255.0)"
      ],
      "execution_count": 0,
      "outputs": [
        {
          "output_type": "display_data",
          "data": {
            "image/png": "[encoded data removed]",
            "text/plain": [
              "<PIL.Image.Image image mode=L size=240x240 at 0x7FF93245FF60>"
            ]
          },
          "metadata": {
            "tags": []
          }
        }
      ]
    },
    {
      "cell_type": "code",
      "metadata": {
        "id": "Kv8aNg6AOp43",
        "colab_type": "code",
        "outputId": "777a17eb-2982-430f-bfc8-a7b374a5d10a",
        "colab": {
          "base_uri": "https://localhost:8080/",
          "height": 34
        }
      },
      "source": [
        "dice_pred4[50]"
      ],
      "execution_count": 0,
      "outputs": [
        {
          "output_type": "execute_result",
          "data": {
            "text/plain": [
              "1"
            ]
          },
          "metadata": {
            "tags": []
          },
          "execution_count": 44
        }
      ]
    },
    {
      "cell_type": "code",
      "metadata": {
        "id": "MQ_tWywAMIFT",
        "colab_type": "code",
        "outputId": "fa8432cb-a375-435f-f269-3fd223462404",
        "colab": {
          "base_uri": "https://localhost:8080/",
          "height": 257
        }
      },
      "source": [
        "cv2_imshow(pred4[50,:,:,:].reshape(240,240)*255.0)"
      ],
      "execution_count": 0,
      "outputs": [
        {
          "output_type": "display_data",
          "data": {
            "image/png": "[encoded data removed]",
            "text/plain": [
              "<PIL.Image.Image image mode=L size=240x240 at 0x7FF93245FD68>"
            ]
          },
          "metadata": {
            "tags": []
          }
        }
      ]
    },
    {
      "cell_type": "code",
      "metadata": {
        "id": "IlaPzwNfMH2e",
        "colab_type": "code",
        "outputId": "d02c6136-a3ae-48fd-f872-d50e2e19689f",
        "colab": {
          "base_uri": "https://localhost:8080/",
          "height": 257
        }
      },
      "source": [
        "cv2_imshow(yt4[220,:,:,:].reshape(240,240)*255.0)"
      ],
      "execution_count": 0,
      "outputs": [
        {
          "output_type": "display_data",
          "data": {
            "image/png": "[encoded data removed]",
            "text/plain": [
              "<PIL.Image.Image image mode=L size=240x240 at 0x7FF93245FDD8>"
            ]
          },
          "metadata": {
            "tags": []
          }
        }
      ]
    },
    {
      "cell_type": "code",
      "metadata": {
        "id": "-Fw_bfW1Ovy5",
        "colab_type": "code",
        "outputId": "8718a19b-76bd-4afc-b089-664f0dd7fc05",
        "colab": {
          "base_uri": "https://localhost:8080/",
          "height": 34
        }
      },
      "source": [
        "dice_pred4[220]"
      ],
      "execution_count": 0,
      "outputs": [
        {
          "output_type": "execute_result",
          "data": {
            "text/plain": [
              "1"
            ]
          },
          "metadata": {
            "tags": []
          },
          "execution_count": 46
        }
      ]
    },
    {
      "cell_type": "code",
      "metadata": {
        "id": "_uNFTUn9MHso",
        "colab_type": "code",
        "outputId": "e1b0fb0a-d2fd-4132-f8cf-f93f7adfb293",
        "colab": {
          "base_uri": "https://localhost:8080/",
          "height": 257
        }
      },
      "source": [
        "cv2_imshow(pred4[220,:,:,:].reshape(240,240)*255.0)"
      ],
      "execution_count": 0,
      "outputs": [
        {
          "output_type": "display_data",
          "data": {
            "image/png": "[encoded data removed]",
            "text/plain": [
              "<PIL.Image.Image image mode=L size=240x240 at 0x7FF93245FCF8>"
            ]
          },
          "metadata": {
            "tags": []
          }
        }
      ]
    },
    {
      "cell_type": "code",
      "metadata": {
        "id": "A1DkAzcuMHjq",
        "colab_type": "code",
        "outputId": "f7e5f0e6-6224-4364-a879-986d58d91460",
        "colab": {
          "base_uri": "https://localhost:8080/",
          "height": 257
        }
      },
      "source": [
        "cv2_imshow(yt4[40,:,:,:].reshape(240,240)*255.0)"
      ],
      "execution_count": 0,
      "outputs": [
        {
          "output_type": "display_data",
          "data": {
            "image/png": "[encoded data removed]",
            "text/plain": [
              "<PIL.Image.Image image mode=L size=240x240 at 0x7FF93245FB00>"
            ]
          },
          "metadata": {
            "tags": []
          }
        }
      ]
    },
    {
      "cell_type": "code",
      "metadata": {
        "id": "gy5Inw38PIno",
        "colab_type": "code",
        "outputId": "b9cdb811-0476-4f8e-f7f7-4b3558df1510",
        "colab": {
          "base_uri": "https://localhost:8080/",
          "height": 34
        }
      },
      "source": [
        "dice_pred4[40]"
      ],
      "execution_count": 0,
      "outputs": [
        {
          "output_type": "execute_result",
          "data": {
            "text/plain": [
              "0"
            ]
          },
          "metadata": {
            "tags": []
          },
          "execution_count": 50
        }
      ]
    },
    {
      "cell_type": "code",
      "metadata": {
        "id": "zX4Dm2DwMHYL",
        "colab_type": "code",
        "outputId": "3a2dedfb-7ae0-44db-a09a-e328582433dc",
        "colab": {
          "base_uri": "https://localhost:8080/",
          "height": 257
        }
      },
      "source": [
        "cv2_imshow(pred4[40,:,:,:].reshape(240,240)*255.0)"
      ],
      "execution_count": 0,
      "outputs": [
        {
          "output_type": "display_data",
          "data": {
            "image/png": "[encoded data removed]",
            "text/plain": [
              "<PIL.Image.Image image mode=L size=240x240 at 0x7FF93245FBA8>"
            ]
          },
          "metadata": {
            "tags": []
          }
        }
      ]
    },
    {
      "cell_type": "code",
      "metadata": {
        "id": "R3yS3W1AMHOD",
        "colab_type": "code",
        "outputId": "ee3d277b-3dbb-4134-b30e-5ec7d21b6742",
        "colab": {
          "base_uri": "https://localhost:8080/",
          "height": 257
        }
      },
      "source": [
        "cv2_imshow(yt4[310,:,:,:].reshape(240,240)*255.0)"
      ],
      "execution_count": 0,
      "outputs": [
        {
          "output_type": "display_data",
          "data": {
            "image/png": "[encoded data removed]",
            "text/plain": [
              "<PIL.Image.Image image mode=L size=240x240 at 0x7FF93245FA90>"
            ]
          },
          "metadata": {
            "tags": []
          }
        }
      ]
    },
    {
      "cell_type": "code",
      "metadata": {
        "id": "gd0-VbDxPMAT",
        "colab_type": "code",
        "outputId": "95162014-0f52-4f9a-a6e8-1f6f9c0af59d",
        "colab": {
          "base_uri": "https://localhost:8080/",
          "height": 34
        }
      },
      "source": [
        "dice_pred4[310]"
      ],
      "execution_count": 0,
      "outputs": [
        {
          "output_type": "execute_result",
          "data": {
            "text/plain": [
              "1"
            ]
          },
          "metadata": {
            "tags": []
          },
          "execution_count": 53
        }
      ]
    },
    {
      "cell_type": "code",
      "metadata": {
        "id": "oinpAH9vMHAV",
        "colab_type": "code",
        "outputId": "8bbd1f09-a3d4-4576-8c16-ad1234a2b8e4",
        "colab": {
          "base_uri": "https://localhost:8080/",
          "height": 257
        }
      },
      "source": [
        "cv2_imshow(pred4[310,:,:,:].reshape(240,240)*255.0)"
      ],
      "execution_count": 0,
      "outputs": [
        {
          "output_type": "display_data",
          "data": {
            "image/png": "[encoded data removed]",
            "text/plain": [
              "<PIL.Image.Image image mode=L size=240x240 at 0x7FF93245FBE0>"
            ]
          },
          "metadata": {
            "tags": []
          }
        }
      ]
    },
    {
      "cell_type": "code",
      "metadata": {
        "id": "DokC_1csJlfN",
        "colab_type": "code",
        "outputId": "7888edbd-266c-42a3-c6c6-fc38ab437e77",
        "colab": {
          "base_uri": "https://localhost:8080/",
          "height": 257
        }
      },
      "source": [
        "cv2_imshow(yt4[70,:,:,:].reshape(240,240)*255.0)"
      ],
      "execution_count": 0,
      "outputs": [
        {
          "output_type": "display_data",
          "data": {
            "image/png": "[encoded data removed]",
            "text/plain": [
              "<PIL.Image.Image image mode=L size=240x240 at 0x7FF930F55DA0>"
            ]
          },
          "metadata": {
            "tags": []
          }
        }
      ]
    },
    {
      "cell_type": "code",
      "metadata": {
        "id": "9yIm1TnAJldQ",
        "colab_type": "code",
        "outputId": "b440ef97-9d08-4564-acb0-7a01a4d9bec3",
        "colab": {
          "base_uri": "https://localhost:8080/",
          "height": 34
        }
      },
      "source": [
        "b.eval(dsc(yt4[70,:,:], pred4[70,:,:]))"
      ],
      "execution_count": 0,
      "outputs": [
        {
          "output_type": "execute_result",
          "data": {
            "text/plain": [
              "0.9678872"
            ]
          },
          "metadata": {
            "tags": []
          },
          "execution_count": 120
        }
      ]
    },
    {
      "cell_type": "code",
      "metadata": {
        "id": "ev60S4b1JlMv",
        "colab_type": "code",
        "outputId": "5550e534-6c63-4e54-de08-2cfaac357f90",
        "colab": {
          "base_uri": "https://localhost:8080/",
          "height": 257
        }
      },
      "source": [
        "cv2_imshow(pred4[70,:,:,:].reshape(240,240)*255.0)"
      ],
      "execution_count": 0,
      "outputs": [
        {
          "output_type": "display_data",
          "data": {
            "image/png": "[encoded data removed]",
            "text/plain": [
              "<PIL.Image.Image image mode=L size=240x240 at 0x7FF930F55860>"
            ]
          },
          "metadata": {
            "tags": []
          }
        }
      ]
    },
    {
      "cell_type": "code",
      "metadata": {
        "id": "DcxM0Jd1JlKd",
        "colab_type": "code",
        "colab": {}
      },
      "source": [
        "a=[]\n",
        "for i in range(len(dice_pred4)):\n",
        "  a.append(b.eval(dsc(yt4[i,:,:], pred4[i,:,:])))"
      ],
      "execution_count": 0,
      "outputs": []
    }
  ]
}